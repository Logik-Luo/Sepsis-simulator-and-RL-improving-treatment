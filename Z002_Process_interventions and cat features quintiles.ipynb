{
 "cells": [
  {
   "cell_type": "code",
   "execution_count": 39,
   "metadata": {
    "collapsed": true,
    "ExecuteTime": {
     "end_time": "2023-08-04T01:39:46.097292800Z",
     "start_time": "2023-08-04T01:39:46.081665400Z"
    }
   },
   "outputs": [],
   "source": [
    "# This notebook takes the input dataset, finds quartiles for the medical interventions (IV in, max vaso in)\n",
    "# for each block.\n",
    "# We then discretise actions in the original dataset according to what bin they fall in, and then save \n",
    "# a new dataframe with the discretised actions."
   ]
  },
  {
   "cell_type": "code",
   "execution_count": 40,
   "metadata": {
    "collapsed": true,
    "ExecuteTime": {
     "end_time": "2023-08-04T01:39:46.112917600Z",
     "start_time": "2023-08-04T01:39:46.081665400Z"
    }
   },
   "outputs": [],
   "source": [
    "%matplotlib inline"
   ]
  },
  {
   "cell_type": "code",
   "execution_count": 41,
   "metadata": {
    "collapsed": true,
    "ExecuteTime": {
     "end_time": "2023-08-04T01:39:46.128544100Z",
     "start_time": "2023-08-04T01:39:46.112917600Z"
    }
   },
   "outputs": [],
   "source": [
    "import numpy as np\n",
    "import pandas as pd\n",
    "import matplotlib.pyplot as plt"
   ]
  },
  {
   "cell_type": "code",
   "execution_count": 42,
   "metadata": {
    "collapsed": true,
    "ExecuteTime": {
     "end_time": "2023-08-04T01:39:51.642689600Z",
     "start_time": "2023-08-04T01:39:46.128544100Z"
    }
   },
   "outputs": [],
   "source": [
    "orig_data = pd.read_csv(\"C:/Users/logik/Desktop/rlsepsis234-master - full/data/A002_MyData.csv\")"
   ]
  },
  {
   "cell_type": "code",
   "execution_count": 43,
   "outputs": [],
   "source": [
    "# Do not do that, for the sake of RL training\n",
    "orig_data['SpO2'] = pd.qcut(orig_data['SpO2'], 4, labels=False, duplicates='drop')\n",
    "orig_data['Vitl009_SOFA'] = pd.qcut(orig_data['Vitl009_SOFA'], 4, labels=False, duplicates='drop')\n",
    "orig_data['Temp_C'] = pd.qcut(orig_data['Temp_C'], 4, labels=False, duplicates='drop')\n",
    "orig_data['GCS'] = pd.qcut(orig_data['GCS'], 4, labels=False, duplicates='drop')"
   ],
   "metadata": {
    "collapsed": false,
    "ExecuteTime": {
     "end_time": "2023-08-04T01:39:52.035041200Z",
     "start_time": "2023-08-04T01:39:51.642689600Z"
    }
   }
  },
  {
   "cell_type": "code",
   "execution_count": 44,
   "metadata": {
    "collapsed": true,
    "ExecuteTime": {
     "end_time": "2023-08-04T01:39:52.050223200Z",
     "start_time": "2023-08-04T01:39:52.035041200Z"
    }
   },
   "outputs": [],
   "source": [
    "# orig_data.to_csv(\"../data/MKdataset07Feb17.csv\", index=False)"
   ]
  },
  {
   "cell_type": "code",
   "execution_count": 45,
   "metadata": {
    "collapsed": true,
    "ExecuteTime": {
     "end_time": "2023-08-04T01:39:52.159613500Z",
     "start_time": "2023-08-04T01:39:52.050223200Z"
    }
   },
   "outputs": [],
   "source": [
    "# assume we're using input_4hourly and max_dose_vaso as the input params for now\n",
    "interventions = orig_data[[\"Flud003_MaxVaso\", \"Flud002_Input4H\"]]   # input_4hourly_tev originally"
   ]
  },
  {
   "cell_type": "code",
   "execution_count": 46,
   "metadata": {
    "collapsed": true,
    "ExecuteTime": {
     "end_time": "2023-08-04T01:39:52.175232300Z",
     "start_time": "2023-08-04T01:39:52.159613500Z"
    }
   },
   "outputs": [
    {
     "data": {
      "text/plain": "   Flud003_MaxVaso  Flud002_Input4H\n0              0.0             20.0\n1              0.0             20.0\n2              0.0             20.0\n3              0.0             20.0\n4              0.0             20.0",
      "text/html": "<div>\n<style scoped>\n    .dataframe tbody tr th:only-of-type {\n        vertical-align: middle;\n    }\n\n    .dataframe tbody tr th {\n        vertical-align: top;\n    }\n\n    .dataframe thead th {\n        text-align: right;\n    }\n</style>\n<table border=\"1\" class=\"dataframe\">\n  <thead>\n    <tr style=\"text-align: right;\">\n      <th></th>\n      <th>Flud003_MaxVaso</th>\n      <th>Flud002_Input4H</th>\n    </tr>\n  </thead>\n  <tbody>\n    <tr>\n      <th>0</th>\n      <td>0.0</td>\n      <td>20.0</td>\n    </tr>\n    <tr>\n      <th>1</th>\n      <td>0.0</td>\n      <td>20.0</td>\n    </tr>\n    <tr>\n      <th>2</th>\n      <td>0.0</td>\n      <td>20.0</td>\n    </tr>\n    <tr>\n      <th>3</th>\n      <td>0.0</td>\n      <td>20.0</td>\n    </tr>\n    <tr>\n      <th>4</th>\n      <td>0.0</td>\n      <td>20.0</td>\n    </tr>\n  </tbody>\n</table>\n</div>"
     },
     "execution_count": 46,
     "metadata": {},
     "output_type": "execute_result"
    }
   ],
   "source": [
    "interventions.head()"
   ]
  },
  {
   "cell_type": "code",
   "execution_count": 47,
   "metadata": {
    "collapsed": true,
    "ExecuteTime": {
     "end_time": "2023-08-04T01:39:52.190857700Z",
     "start_time": "2023-08-04T01:39:52.175232300Z"
    }
   },
   "outputs": [],
   "source": [
    "adjusted_vaso = interventions[\"Flud003_MaxVaso\"][interventions[\"Flud003_MaxVaso\"] >0]\n",
    "adjusted_iv = interventions[\"Flud002_Input4H\"][interventions[\"Flud002_Input4H\"]>0]  # input_4hourly_tev originally"
   ]
  },
  {
   "cell_type": "code",
   "execution_count": 48,
   "metadata": {
    "collapsed": true,
    "ExecuteTime": {
     "end_time": "2023-08-04T01:39:52.268987600Z",
     "start_time": "2023-08-04T01:39:52.190857700Z"
    }
   },
   "outputs": [],
   "source": [
    "vaso_quartiles = adjusted_vaso.quantile([0.25,0.50,0.75])\n",
    "iv_quartiles = adjusted_iv.quantile([0.25,0.5,0.75])"
   ]
  },
  {
   "cell_type": "code",
   "execution_count": 49,
   "metadata": {
    "ExecuteTime": {
     "end_time": "2023-08-04T01:39:52.268987600Z",
     "start_time": "2023-08-04T01:39:52.222118500Z"
    }
   },
   "outputs": [
    {
     "data": {
      "text/plain": "array([0.07, 0.2 , 0.36])"
     },
     "execution_count": 49,
     "metadata": {},
     "output_type": "execute_result"
    }
   ],
   "source": [
    "vq = np.array(vaso_quartiles)\n",
    "vq"
   ]
  },
  {
   "cell_type": "code",
   "execution_count": 50,
   "metadata": {
    "ExecuteTime": {
     "end_time": "2023-08-04T01:39:52.268987600Z",
     "start_time": "2023-08-04T01:39:52.237735700Z"
    }
   },
   "outputs": [
    {
     "data": {
      "text/plain": "array([ 12.5       ,  36.90181667, 125.        ])"
     },
     "execution_count": 50,
     "metadata": {},
     "output_type": "execute_result"
    }
   ],
   "source": [
    "ivq = np.array(iv_quartiles)\n",
    "ivq"
   ]
  },
  {
   "cell_type": "code",
   "execution_count": 51,
   "metadata": {
    "collapsed": true,
    "ExecuteTime": {
     "end_time": "2023-08-04T01:39:52.268987600Z",
     "start_time": "2023-08-04T01:39:52.253361300Z"
    }
   },
   "outputs": [],
   "source": [
    "# so, for vasopressors:\n",
    "# 0 = input_0\n",
    "# 0 < vaso < 0.08 = input_1\n",
    "# 0.08 <= vaso < .225 = input_2\n",
    "# .225 <= vaso < .45 = input_3\n",
    "# .45 <= input_4"
   ]
  },
  {
   "cell_type": "code",
   "execution_count": 52,
   "metadata": {
    "collapsed": true,
    "ExecuteTime": {
     "end_time": "2023-08-04T01:39:52.284614100Z",
     "start_time": "2023-08-04T01:39:52.268987600Z"
    }
   },
   "outputs": [],
   "source": [
    "# for iv:\n",
    "# 0 = input_0\n",
    "# 0 < vaso < 50 = input_1\n",
    "# 50 <= vaso < .180.435 = input_2\n",
    "# 180.435 <= vaso < 529.757 = input_3\n",
    "# 529.757 <= input_4"
   ]
  },
  {
   "cell_type": "code",
   "execution_count": 53,
   "metadata": {
    "collapsed": true,
    "ExecuteTime": {
     "end_time": "2023-08-04T01:39:52.322800500Z",
     "start_time": "2023-08-04T01:39:52.284614100Z"
    }
   },
   "outputs": [],
   "source": [
    "import copy\n",
    "discretised_int = copy.deepcopy(interventions)"
   ]
  },
  {
   "cell_type": "code",
   "execution_count": 54,
   "metadata": {
    "collapsed": true,
    "ExecuteTime": {
     "end_time": "2023-08-04T01:39:52.354043800Z",
     "start_time": "2023-08-04T01:39:52.307164800Z"
    }
   },
   "outputs": [],
   "source": [
    "discretised_int['vaso_input'] = discretised_int['Flud003_MaxVaso']\n",
    "discretised_int['vaso_input'][interventions['Flud003_MaxVaso'] == 0.0] = 0\n",
    "discretised_int['vaso_input'][(interventions['Flud003_MaxVaso'] > 0.0) & (interventions['Flud003_MaxVaso'] < vq[0])] = 1\n",
    "discretised_int['vaso_input'][(interventions['Flud003_MaxVaso'] >= vq[0]) & (interventions['Flud003_MaxVaso'] < vq[1])] = 2\n",
    "discretised_int['vaso_input'][(interventions['Flud003_MaxVaso'] >= vq[1]) & (interventions['Flud003_MaxVaso'] < vq[2])] = 3\n",
    "a = interventions['Flud003_MaxVaso'] >= vq[2]\n",
    "discretised_int['vaso_input'][a] = 4"
   ]
  },
  {
   "cell_type": "code",
   "execution_count": 55,
   "metadata": {
    "collapsed": true,
    "ExecuteTime": {
     "end_time": "2023-08-04T01:39:52.385308Z",
     "start_time": "2023-08-04T01:39:52.354043800Z"
    }
   },
   "outputs": [],
   "source": [
    "discretised_int['iv_input'] = discretised_int['Flud002_Input4H']  # input_4hourly_tev originally\n",
    "discretised_int['iv_input'][interventions['Flud002_Input4H'] == 0.0] = 0\n",
    "discretised_int['iv_input'][(interventions['Flud002_Input4H'] > 0.0) & (interventions['Flud002_Input4H'] < ivq[0])] = 1\n",
    "discretised_int['iv_input'][(interventions['Flud002_Input4H'] >=  ivq[0]) & (interventions['Flud002_Input4H'] <  ivq[1])] = 2\n",
    "discretised_int['iv_input'][(interventions['Flud002_Input4H'] >=  ivq[1]) & (interventions['Flud002_Input4H'] < ivq[2])] = 3\n",
    "discretised_int['iv_input'][(interventions['Flud002_Input4H'] >=  ivq[2])] = 4"
   ]
  },
  {
   "cell_type": "code",
   "execution_count": 56,
   "metadata": {
    "scrolled": true,
    "ExecuteTime": {
     "end_time": "2023-08-04T01:39:52.604067600Z",
     "start_time": "2023-08-04T01:39:52.385308Z"
    }
   },
   "outputs": [
    {
     "data": {
      "text/plain": "<Axes: ylabel='Frequency'>"
     },
     "execution_count": 56,
     "metadata": {},
     "output_type": "execute_result"
    },
    {
     "data": {
      "text/plain": "<Figure size 640x480 with 1 Axes>",
      "image/png": "[encoded data removed]"
     },
     "metadata": {},
     "output_type": "display_data"
    }
   ],
   "source": [
    "discretised_int['vaso_input'].plot.hist()"
   ]
  },
  {
   "cell_type": "code",
   "execution_count": 57,
   "metadata": {
    "ExecuteTime": {
     "end_time": "2023-08-04T01:39:52.822825300Z",
     "start_time": "2023-08-04T01:39:52.604067600Z"
    }
   },
   "outputs": [
    {
     "data": {
      "text/plain": "<Axes: ylabel='Frequency'>"
     },
     "execution_count": 57,
     "metadata": {},
     "output_type": "execute_result"
    },
    {
     "data": {
      "text/plain": "<Figure size 640x480 with 1 Axes>",
      "image/png": "[encoded data removed]"
     },
     "metadata": {},
     "output_type": "display_data"
    }
   ],
   "source": [
    "discretised_int['iv_input'].plot.hist()"
   ]
  },
  {
   "cell_type": "code",
   "execution_count": 58,
   "metadata": {
    "collapsed": true,
    "ExecuteTime": {
     "end_time": "2023-08-04T01:39:52.947832100Z",
     "start_time": "2023-08-04T01:39:52.822825300Z"
    }
   },
   "outputs": [],
   "source": [
    "disc_inp_data = copy.deepcopy(orig_data)"
   ]
  },
  {
   "cell_type": "code",
   "execution_count": 59,
   "metadata": {
    "collapsed": true,
    "ExecuteTime": {
     "end_time": "2023-08-04T01:39:52.947832100Z",
     "start_time": "2023-08-04T01:39:52.916591Z"
    }
   },
   "outputs": [],
   "source": [
    "disc_inp_data['vaso_input'] = discretised_int['vaso_input']\n",
    "disc_inp_data['iv_input'] = discretised_int['iv_input']"
   ]
  },
  {
   "cell_type": "code",
   "execution_count": 60,
   "metadata": {
    "scrolled": true,
    "ExecuteTime": {
     "end_time": "2023-08-04T01:39:52.963458300Z",
     "start_time": "2023-08-04T01:39:52.947832100Z"
    }
   },
   "outputs": [
    {
     "data": {
      "text/plain": "   Admn001_ID  bloc  Unnamed: 0  Vitl009_SOFA  Flud002_Input4H  \\\n0           3     1           0             0             20.0   \n1           3     2           1             1             20.0   \n2           3     3           2             1             20.0   \n3           3     4           3             0             20.0   \n4           3     5           4             0             20.0   \n\n   Flud003_MaxVaso  OutC002_90d mortality  timeday  SpO2  Temp_C  ...  \\\n0              0.0                    1.0       19     2       0  ...   \n1              0.0                    1.0       20     1       0  ...   \n2              0.0                    1.0       21     1       0  ...   \n3              0.0                    1.0       22     2       0  ...   \n4              0.0                    1.0       23     2       1  ...   \n\n   Flud007_rrt_1  Vent001_Mech_0  Vent001_Mech_1  Vitl010_SIRS_1  \\\n0              0               0               1               0   \n1              0               0               1               0   \n2              0               0               1               0   \n3              0               0               1               0   \n4              0               0               1               0   \n\n   Vitl010_SIRS_2  Vitl010_SIRS_3  Vitl010_SIRS_4  Vitl010_SIRS_5  vaso_input  \\\n0               1               0               0               0         0.0   \n1               1               0               0               0         0.0   \n2               1               0               0               0         0.0   \n3               1               0               0               0         0.0   \n4               1               0               0               0         0.0   \n\n   iv_input  \n0       2.0  \n1       2.0  \n2       2.0  \n3       2.0  \n4       2.0  \n\n[5 rows x 55 columns]",
      "text/html": "<div>\n<style scoped>\n    .dataframe tbody tr th:only-of-type {\n        vertical-align: middle;\n    }\n\n    .dataframe tbody tr th {\n        vertical-align: top;\n    }\n\n    .dataframe thead th {\n        text-align: right;\n    }\n</style>\n<table border=\"1\" class=\"dataframe\">\n  <thead>\n    <tr style=\"text-align: right;\">\n      <th></th>\n      <th>Admn001_ID</th>\n      <th>bloc</th>\n      <th>Unnamed: 0</th>\n      <th>Vitl009_SOFA</th>\n      <th>Flud002_Input4H</th>\n      <th>Flud003_MaxVaso</th>\n      <th>OutC002_90d mortality</th>\n      <th>timeday</th>\n      <th>SpO2</th>\n      <th>Temp_C</th>\n      <th>...</th>\n      <th>Flud007_rrt_1</th>\n      <th>Vent001_Mech_0</th>\n      <th>Vent001_Mech_1</th>\n      <th>Vitl010_SIRS_1</th>\n      <th>Vitl010_SIRS_2</th>\n      <th>Vitl010_SIRS_3</th>\n      <th>Vitl010_SIRS_4</th>\n      <th>Vitl010_SIRS_5</th>\n      <th>vaso_input</th>\n      <th>iv_input</th>\n    </tr>\n  </thead>\n  <tbody>\n    <tr>\n      <th>0</th>\n      <td>3</td>\n      <td>1</td>\n      <td>0</td>\n      <td>0</td>\n      <td>20.0</td>\n      <td>0.0</td>\n      <td>1.0</td>\n      <td>19</td>\n      <td>2</td>\n      <td>0</td>\n      <td>...</td>\n      <td>0</td>\n      <td>0</td>\n      <td>1</td>\n      <td>0</td>\n      <td>1</td>\n      <td>0</td>\n      <td>0</td>\n      <td>0</td>\n      <td>0.0</td>\n      <td>2.0</td>\n    </tr>\n    <tr>\n      <th>1</th>\n      <td>3</td>\n      <td>2</td>\n      <td>1</td>\n      <td>1</td>\n      <td>20.0</td>\n      <td>0.0</td>\n      <td>1.0</td>\n      <td>20</td>\n      <td>1</td>\n      <td>0</td>\n      <td>...</td>\n      <td>0</td>\n      <td>0</td>\n      <td>1</td>\n      <td>0</td>\n      <td>1</td>\n      <td>0</td>\n      <td>0</td>\n      <td>0</td>\n      <td>0.0</td>\n      <td>2.0</td>\n    </tr>\n    <tr>\n      <th>2</th>\n      <td>3</td>\n      <td>3</td>\n      <td>2</td>\n      <td>1</td>\n      <td>20.0</td>\n      <td>0.0</td>\n      <td>1.0</td>\n      <td>21</td>\n      <td>1</td>\n      <td>0</td>\n      <td>...</td>\n      <td>0</td>\n      <td>0</td>\n      <td>1</td>\n      <td>0</td>\n      <td>1</td>\n      <td>0</td>\n      <td>0</td>\n      <td>0</td>\n      <td>0.0</td>\n      <td>2.0</td>\n    </tr>\n    <tr>\n      <th>3</th>\n      <td>3</td>\n      <td>4</td>\n      <td>3</td>\n      <td>0</td>\n      <td>20.0</td>\n      <td>0.0</td>\n      <td>1.0</td>\n      <td>22</td>\n      <td>2</td>\n      <td>0</td>\n      <td>...</td>\n      <td>0</td>\n      <td>0</td>\n      <td>1</td>\n      <td>0</td>\n      <td>1</td>\n      <td>0</td>\n      <td>0</td>\n      <td>0</td>\n      <td>0.0</td>\n      <td>2.0</td>\n    </tr>\n    <tr>\n      <th>4</th>\n      <td>3</td>\n      <td>5</td>\n      <td>4</td>\n      <td>0</td>\n      <td>20.0</td>\n      <td>0.0</td>\n      <td>1.0</td>\n      <td>23</td>\n      <td>2</td>\n      <td>1</td>\n      <td>...</td>\n      <td>0</td>\n      <td>0</td>\n      <td>1</td>\n      <td>0</td>\n      <td>1</td>\n      <td>0</td>\n      <td>0</td>\n      <td>0</td>\n      <td>0.0</td>\n      <td>2.0</td>\n    </tr>\n  </tbody>\n</table>\n<p>5 rows × 55 columns</p>\n</div>"
     },
     "execution_count": 60,
     "metadata": {},
     "output_type": "execute_result"
    }
   ],
   "source": [
    "disc_inp_data.head()"
   ]
  },
  {
   "cell_type": "code",
   "execution_count": 61,
   "metadata": {
    "scrolled": false,
    "ExecuteTime": {
     "end_time": "2023-08-04T01:39:52.979083900Z",
     "start_time": "2023-08-04T01:39:52.963458300Z"
    }
   },
   "outputs": [
    {
     "data": {
      "text/plain": "0.0    840048\n4.0     37998\n1.0     35945\n2.0     35875\n3.0     34403\nName: vaso_input, dtype: int64"
     },
     "execution_count": 61,
     "metadata": {},
     "output_type": "execute_result"
    }
   ],
   "source": [
    "disc_inp_data['vaso_input'].value_counts()"
   ]
  },
  {
   "cell_type": "code",
   "execution_count": 62,
   "metadata": {
    "ExecuteTime": {
     "end_time": "2023-08-04T01:39:53.090333600Z",
     "start_time": "2023-08-04T01:39:52.979083900Z"
    }
   },
   "outputs": [
    {
     "data": {
      "text/plain": "0.0    282790\n4.0    176321\n2.0    175408\n1.0    175331\n3.0    174419\nName: iv_input, dtype: int64"
     },
     "execution_count": 62,
     "metadata": {},
     "output_type": "execute_result"
    }
   ],
   "source": [
    "disc_inp_data['iv_input'].value_counts()"
   ]
  },
  {
   "cell_type": "code",
   "execution_count": 63,
   "metadata": {
    "collapsed": true,
    "ExecuteTime": {
     "end_time": "2023-08-04T01:40:25.477667300Z",
     "start_time": "2023-08-04T01:39:53.010335800Z"
    }
   },
   "outputs": [],
   "source": [
    "disc_inp_data.to_csv('C:/Users/logik/Desktop/rlsepsis234-master - full/data/A002_MyData.csv', index=False)"
   ]
  }
 ],
 "metadata": {
  "kernelspec": {
   "name": "python3",
   "language": "python",
   "display_name": "Python 3 (ipykernel)"
  },
  "language_info": {
   "codemirror_mode": {
    "name": "ipython",
    "version": 2
   },
   "file_extension": ".py",
   "mimetype": "text/x-python",
   "name": "python",
   "nbconvert_exporter": "python",
   "pygments_lexer": "ipython2",
   "version": "2.7.6"
  }
 },
 "nbformat": 4,
 "nbformat_minor": 1
}
