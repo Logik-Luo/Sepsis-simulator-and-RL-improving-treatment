{
 "cells": [
  {
   "cell_type": "code",
   "execution_count": 11,
   "metadata": {
    "ExecuteTime": {
     "end_time": "2023-08-04T01:41:47.321773600Z",
     "start_time": "2023-08-04T01:41:47.306147800Z"
    }
   },
   "outputs": [],
   "source": [
    "from __future__ import absolute_import, division, print_function\n",
    "\n",
    "import pandas as pd\n",
    "import numpy as np\n",
    "import sklearn as sk\n",
    "import os\n",
    "import tensorflow as tf\n",
    "from sklearn.feature_extraction import DictVectorizer\n",
    "# from sklearn.externals import joblib\n",
    "from sklearn.model_selection import ParameterGrid\n",
    "import seaborn as sns\n",
    "\n",
    "from sklearn.preprocessing import StandardScaler\n",
    "\n",
    "# TensorFlow and tf.keras\n",
    "# import tensorflow as tf\n",
    "from tensorflow import keras"
   ]
  },
  {
   "cell_type": "code",
   "execution_count": 12,
   "metadata": {
    "ExecuteTime": {
     "end_time": "2023-08-04T01:41:47.337399800Z",
     "start_time": "2023-08-04T01:41:47.321773600Z"
    }
   },
   "outputs": [],
   "source": [
    "# %load_ext autoreload\n",
    "# %autoreload 2"
   ]
  },
  {
   "cell_type": "code",
   "execution_count": 13,
   "metadata": {
    "ExecuteTime": {
     "end_time": "2023-08-04T01:41:52.905958700Z",
     "start_time": "2023-08-04T01:41:47.337399800Z"
    }
   },
   "outputs": [],
   "source": [
    "data_path = \"C:/Users/logik/Desktop/rlsepsis234-master - full/data/\"\n",
    "\n",
    "final_df_train = pd.read_csv(data_path + 'train_state_action_reward_df.csv')\n",
    "final_df_test = pd.read_csv(data_path+ 'test_state_action_reward_df.csv')"
   ]
  },
  {
   "cell_type": "code",
   "execution_count": 14,
   "outputs": [
    {
     "data": {
      "text/plain": "4"
     },
     "execution_count": 14,
     "metadata": {},
     "output_type": "execute_result"
    }
   ],
   "source": [
    "final_df_train['discrete_action'].nunique()"
   ],
   "metadata": {
    "collapsed": false,
    "ExecuteTime": {
     "end_time": "2023-08-04T01:41:52.921583400Z",
     "start_time": "2023-08-04T01:41:52.905958700Z"
    }
   }
  },
  {
   "cell_type": "code",
   "execution_count": 15,
   "metadata": {
    "ExecuteTime": {
     "end_time": "2023-08-04T01:41:52.968465500Z",
     "start_time": "2023-08-04T01:41:52.921583400Z"
    }
   },
   "outputs": [],
   "source": [
    "def get_x_y(final_df):\n",
    "    final_df_train_copy = final_df.copy()\n",
    "    final_df_train_copy = final_df_train_copy.rename(columns={'row_id': 'row_id_old'})\n",
    "    final_df_train_copy =  final_df_train_copy.rename(columns={'row_id_next': 'row_id'})\n",
    "    key_value_train = final_df_train_copy.merge(final_df,  on=('Admn001_ID', 'row_id'))     # left merge makes everything hard to understand\n",
    "    x_features = list(key_value_train.columns)[3:52]\n",
    "    y_features = list(key_value_train.columns)[60:109]  # now including discrete actions\n",
    "    train_x = key_value_train[x_features]\n",
    "    train_y = key_value_train[y_features]       # 'episode_length', 'total_reward', 'distance_from_last' 加iv 和 vaso input\n",
    "    return train_x.values, train_y.values"
   ]
  },
  {
   "cell_type": "code",
   "execution_count": 16,
   "metadata": {
    "ExecuteTime": {
     "end_time": "2023-08-04T01:41:54.943000300Z",
     "start_time": "2023-08-04T01:41:52.937210Z"
    }
   },
   "outputs": [],
   "source": [
    "x_train, y_train = get_x_y(final_df_train)"
   ]
  },
  {
   "cell_type": "code",
   "execution_count": 17,
   "metadata": {
    "ExecuteTime": {
     "end_time": "2023-08-04T01:41:54.958622900Z",
     "start_time": "2023-08-04T01:41:54.943000300Z"
    }
   },
   "outputs": [
    {
     "data": {
      "text/plain": "(770139, 49)"
     },
     "execution_count": 17,
     "metadata": {},
     "output_type": "execute_result"
    }
   ],
   "source": [
    "x_train.shape\n"
   ]
  },
  {
   "cell_type": "code",
   "execution_count": 18,
   "outputs": [
    {
     "data": {
      "text/plain": "(770139, 49)"
     },
     "execution_count": 18,
     "metadata": {},
     "output_type": "execute_result"
    }
   ],
   "source": [
    "y_train.shape"
   ],
   "metadata": {
    "collapsed": false,
    "ExecuteTime": {
     "end_time": "2023-08-04T01:41:55.005501200Z",
     "start_time": "2023-08-04T01:41:54.958622900Z"
    }
   }
  },
  {
   "cell_type": "code",
   "execution_count": 19,
   "metadata": {
    "ExecuteTime": {
     "end_time": "2023-08-04T01:41:55.445619300Z",
     "start_time": "2023-08-04T01:41:54.974249500Z"
    }
   },
   "outputs": [],
   "source": [
    "x_test, y_test = get_x_y(final_df_test)"
   ]
  },
  {
   "cell_type": "code",
   "execution_count": 20,
   "metadata": {
    "ExecuteTime": {
     "end_time": "2023-08-04T01:41:55.977748500Z",
     "start_time": "2023-08-04T01:41:55.445619300Z"
    }
   },
   "outputs": [],
   "source": [
    "np.savez(\"C:/Users/logik/Desktop/rlsepsis234-master - full/data/processed_data.npz\", x_train=x_train, y_train=y_train, x_test=x_test, y_test=y_test)"
   ]
  }
 ],
 "metadata": {
  "kernelspec": {
   "name": "python3",
   "language": "python",
   "display_name": "Python 3 (ipykernel)"
  },
  "language_info": {
   "codemirror_mode": {
    "name": "ipython",
    "version": 3
   },
   "file_extension": ".py",
   "mimetype": "text/x-python",
   "name": "python",
   "nbconvert_exporter": "python",
   "pygments_lexer": "ipython3",
   "version": "3.6.5"
  }
 },
 "nbformat": 4,
 "nbformat_minor": 2
}
