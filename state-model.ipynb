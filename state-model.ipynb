{
 "cells": [
  {
   "cell_type": "code",
   "execution_count": 34,
   "metadata": {
    "ExecuteTime": {
     "end_time": "2023-08-04T01:41:59.714122100Z",
     "start_time": "2023-08-04T01:41:59.666176400Z"
    }
   },
   "outputs": [],
   "source": [
    "from __future__ import absolute_import, division, print_function\n",
    "\n",
    "import pandas as pd\n",
    "import numpy as np\n",
    "import sklearn as sk\n",
    "import os\n",
    "import tensorflow as tf\n",
    "from tensorflow import keras\n",
    "import seaborn as sns\n",
    "import h5py as h5py\n",
    "from time import time\n",
    "import matplotlib.pyplot as plt\n",
    "# %load_ext autoreload\n",
    "# %autoreload 2"
   ]
  },
  {
   "cell_type": "code",
   "execution_count": 35,
   "metadata": {
    "ExecuteTime": {
     "end_time": "2023-08-04T01:41:59.729749Z",
     "start_time": "2023-08-04T01:41:59.682871Z"
    }
   },
   "outputs": [],
   "source": [
    "data = np.load(\"C:/Users/logik/Desktop/rlsepsis234-master - full/data/processed_data.npz\")"
   ]
  },
  {
   "cell_type": "code",
   "execution_count": 36,
   "metadata": {
    "ExecuteTime": {
     "end_time": "2023-08-04T01:41:59.807878Z",
     "start_time": "2023-08-04T01:41:59.698496400Z"
    }
   },
   "outputs": [],
   "source": [
    "# used for gym environment\n",
    "np.savez(\"sepsis_starting_states.npz\", sepsis_starting_states = data['x_test'])"
   ]
  },
  {
   "cell_type": "code",
   "execution_count": 37,
   "metadata": {
    "ExecuteTime": {
     "end_time": "2023-08-04T01:41:59.823504600Z",
     "start_time": "2023-08-04T01:41:59.807878Z"
    }
   },
   "outputs": [
    {
     "data": {
      "text/plain": "['x_train', 'y_train', 'x_test', 'y_test']"
     },
     "execution_count": 37,
     "metadata": {},
     "output_type": "execute_result"
    }
   ],
   "source": [
    "data.files"
   ]
  },
  {
   "cell_type": "code",
   "execution_count": 38,
   "metadata": {
    "ExecuteTime": {
     "end_time": "2023-08-04T01:42:00.011023900Z",
     "start_time": "2023-08-04T01:41:59.823504600Z"
    }
   },
   "outputs": [
    {
     "data": {
      "text/plain": "(770139, 49)"
     },
     "execution_count": 38,
     "metadata": {},
     "output_type": "execute_result"
    }
   ],
   "source": [
    "data['x_train'].shape   # 按之前一个文件应该是46，除非interval start and end 被换成episode length"
   ]
  },
  {
   "cell_type": "code",
   "execution_count": 39,
   "metadata": {
    "ExecuteTime": {
     "end_time": "2023-08-04T01:42:00.026643300Z",
     "start_time": "2023-08-04T01:42:00.011023900Z"
    }
   },
   "outputs": [],
   "source": [
    "max_episode = 10\n",
    "\n",
    "def get_padded_matrix(x_, y_):\n",
    "    episode_matrix = np.zeros(shape=[x_.shape[0], max_episode, x_.shape[1]])\n",
    "    episode = []\n",
    "    for idx in range(len(x_)):\n",
    "        # within on episode\n",
    "        episode.append(x_[idx])\n",
    "        for event_idx in range(min(len(episode), max_episode)):\n",
    "            episode_matrix[idx][-(event_idx % max_episode)-1] = episode[-event_idx - 1]\n",
    "        if np.equal(x_[idx],y_[idx]).all():     # [:-1] removed since we want full 49 columns for our model\n",
    "            # episode changed\n",
    "            episode = []\n",
    "    return episode_matrix"
   ]
  },
  {
   "cell_type": "code",
   "execution_count": 40,
   "metadata": {
    "ExecuteTime": {
     "end_time": "2023-08-04T01:42:10.097721400Z",
     "start_time": "2023-08-04T01:42:00.026643300Z"
    }
   },
   "outputs": [],
   "source": [
    "train_matrix = get_padded_matrix(data['x_train'], data['y_train'])"
   ]
  },
  {
   "cell_type": "code",
   "execution_count": 41,
   "metadata": {
    "ExecuteTime": {
     "end_time": "2023-08-04T01:42:10.112905Z",
     "start_time": "2023-08-04T01:42:10.097721400Z"
    }
   },
   "outputs": [
    {
     "data": {
      "text/plain": "(770139, 10, 49)"
     },
     "execution_count": 41,
     "metadata": {},
     "output_type": "execute_result"
    }
   ],
   "source": [
    "train_matrix.shape      # 最大10个回合"
   ]
  },
  {
   "cell_type": "code",
   "execution_count": 42,
   "metadata": {
    "ExecuteTime": {
     "end_time": "2023-08-04T01:42:12.673273700Z",
     "start_time": "2023-08-04T01:42:10.112905Z"
    }
   },
   "outputs": [],
   "source": [
    "test_matrix = get_padded_matrix(data['x_test'], data['y_test'])"
   ]
  },
  {
   "cell_type": "code",
   "execution_count": 43,
   "metadata": {
    "ExecuteTime": {
     "end_time": "2023-08-04T01:42:12.938930700Z",
     "start_time": "2023-08-04T01:42:12.673273700Z"
    }
   },
   "outputs": [],
   "source": [
    "# model = tf.keras.Sequential([                 # LSTM\n",
    "#     tf.keras.layers.LSTM(512, input_shape=(train_matrix.shape[1], train_matrix.shape[2])),\n",
    "#     tf.keras.layers.Dropout(0.2),\n",
    "#     tf.keras.layers.Dense(64, activation='relu'),\n",
    "#     tf.keras.layers.Dense(train_matrix.shape[2]-1)    # -1 removed?\n",
    "# ])\n",
    "model = tf.keras.Sequential([                 # GRU\n",
    "    tf.keras.layers.GRU(512, input_shape=(train_matrix.shape[1], train_matrix.shape[2])),\n",
    "    # tf.keras.layers.Dropout(0.2),\n",
    "    tf.keras.layers.Dense(64, activation='relu'),\n",
    "    tf.keras.layers.Dense(train_matrix.shape[2])  # -1 shall be removed\n",
    "])\n",
    "# model = tf.keras.Sequential([                 # 双层LSTM\n",
    "#     tf.keras.layers.LSTM(128, return_sequences=True, input_shape=(train_matrix.shape[1], train_matrix.shape[2])),\n",
    "#     tf.keras.layers.Dropout(0.2),\n",
    "#     tf.keras.layers.LSTM(64, return_sequences=False),\n",
    "#     tf.keras.layers.Dropout(0.2),\n",
    "#     tf.keras.layers.Dense(32, activation='relu'),\n",
    "#     tf.keras.layers.Dropout(0.2),\n",
    "#     tf.keras.layers.Dense(train_matrix.shape[2]-1)\n",
    "# ])\n",
    "# from tensorflow.keras import layers\n",
    "#\n",
    "# class TransformerBlock(layers.Layer):\n",
    "#     def __init__(self, embed_dim, num_heads, ff_dim, rate=0.1):     # dropout 0.1\n",
    "#         super(TransformerBlock, self).__init__()\n",
    "#         self.att = layers.MultiHeadAttention(num_heads=num_heads, key_dim=embed_dim)\n",
    "#         self.ffn = tf.keras.Sequential([\n",
    "#             layers.Dense(ff_dim, activation=\"relu\"),\n",
    "#             layers.Dense(embed_dim),\n",
    "#         ])\n",
    "#         self.layernorm1 = layers.LayerNormalization(epsilon=1e-2)\n",
    "#         self.layernorm2 = layers.LayerNormalization(epsilon=1e-2)\n",
    "#         self.dropout1 = layers.Dropout(rate)\n",
    "#         self.dropout2 = layers.Dropout(rate)\n",
    "#\n",
    "#     def call(self, inputs, training):\n",
    "#         attn_output = self.att(inputs, inputs)\n",
    "#         attn_output = self.dropout1(attn_output, training=training)\n",
    "#         out1 = self.layernorm1(inputs + attn_output)\n",
    "#         ffn_output = self.ffn(out1)\n",
    "#         ffn_output = self.dropout2(ffn_output, training=training)\n",
    "#         return self.layernorm2(out1 + ffn_output)\n",
    "#\n",
    "# embed_dim = 256  # Embedding size for each token\n",
    "# num_heads = 4  # Number of attention heads\n",
    "# ff_dim = 256  # Hidden layer size in feed forward network inside transformer\n",
    "#\n",
    "# inputs = layers.Input(shape=(10, 49)) # change to shape=(10, 49)\n",
    "# embedding_layer = layers.TimeDistributed(layers.Dense(embed_dim))(inputs)  # replace the Embedding layer with a Dense layer wrapped in TimeDistributed\n",
    "# transformer_block = TransformerBlock(embed_dim, num_heads, ff_dim)\n",
    "# x = transformer_block(embedding_layer)\n",
    "# x = layers.GlobalAveragePooling1D()(x)\n",
    "# x = layers.Dense(64, activation=\"relu\")(x)\n",
    "# x = layers.Dense(train_matrix.shape[2]-1)(x)\n",
    "#\n",
    "# model = tf.keras.Model(inputs=inputs, outputs=x)\n"
   ]
  },
  {
   "cell_type": "code",
   "execution_count": 44,
   "metadata": {
    "ExecuteTime": {
     "end_time": "2023-08-04T01:42:12.970170800Z",
     "start_time": "2023-08-04T01:42:12.938930700Z"
    }
   },
   "outputs": [
    {
     "name": "stdout",
     "output_type": "stream",
     "text": [
      "Model: \"sequential_2\"\n",
      "_________________________________________________________________\n",
      " Layer (type)                Output Shape              Param #   \n",
      "=================================================================\n",
      " gru_2 (GRU)                 (None, 512)               864768    \n",
      "                                                                 \n",
      " dense_4 (Dense)             (None, 64)                32832     \n",
      "                                                                 \n",
      " dense_5 (Dense)             (None, 49)                3185      \n",
      "                                                                 \n",
      "=================================================================\n",
      "Total params: 900,785\n",
      "Trainable params: 900,785\n",
      "Non-trainable params: 0\n",
      "_________________________________________________________________\n"
     ]
    }
   ],
   "source": [
    "model.summary()"
   ]
  },
  {
   "cell_type": "code",
   "execution_count": 45,
   "metadata": {
    "ExecuteTime": {
     "end_time": "2023-08-04T01:42:13.001423Z",
     "start_time": "2023-08-04T01:42:12.970170800Z"
    }
   },
   "outputs": [],
   "source": [
    "optimizer = keras.optimizers.Adam(learning_rate=0.01)\n",
    "model.compile(optimizer='adam', loss='mean_squared_error')\n"
   ]
  },
  {
   "cell_type": "code",
   "execution_count": 46,
   "metadata": {
    "ExecuteTime": {
     "end_time": "2023-08-04T02:11:29.121700300Z",
     "start_time": "2023-08-04T01:42:12.970170800Z"
    }
   },
   "outputs": [
    {
     "name": "stdout",
     "output_type": "stream",
     "text": [
      "Epoch 1/10\n",
      "1504/1505 [============================>.] - ETA: 0s - loss: 0.0725\n",
      "Epoch 1: val_loss improved from inf to 0.06449, saving model to C:/Users/logik/Desktop/rlsepsis234-master - full/gym_sepsis/env/model\\sepsis_states.model\n"
     ]
    },
    {
     "name": "stderr",
     "output_type": "stream",
     "text": [
      "WARNING:absl:Found untraced functions such as gru_cell_2_layer_call_fn, gru_cell_2_layer_call_and_return_conditional_losses while saving (showing 2 of 2). These functions will not be directly callable after loading.\n"
     ]
    },
    {
     "name": "stdout",
     "output_type": "stream",
     "text": [
      "INFO:tensorflow:Assets written to: C:/Users/logik/Desktop/rlsepsis234-master - full/gym_sepsis/env/model\\sepsis_states.model\\assets\n"
     ]
    },
    {
     "name": "stderr",
     "output_type": "stream",
     "text": [
      "INFO:tensorflow:Assets written to: C:/Users/logik/Desktop/rlsepsis234-master - full/gym_sepsis/env/model\\sepsis_states.model\\assets\n"
     ]
    },
    {
     "name": "stdout",
     "output_type": "stream",
     "text": [
      "1505/1505 [==============================] - 154s 101ms/step - loss: 0.0725 - val_loss: 0.0645\n",
      "Epoch 2/10\n",
      "1504/1505 [============================>.] - ETA: 0s - loss: 0.0627\n",
      "Epoch 2: val_loss improved from 0.06449 to 0.06295, saving model to C:/Users/logik/Desktop/rlsepsis234-master - full/gym_sepsis/env/model\\sepsis_states.model\n"
     ]
    },
    {
     "name": "stderr",
     "output_type": "stream",
     "text": [
      "WARNING:absl:Found untraced functions such as gru_cell_2_layer_call_fn, gru_cell_2_layer_call_and_return_conditional_losses while saving (showing 2 of 2). These functions will not be directly callable after loading.\n"
     ]
    },
    {
     "name": "stdout",
     "output_type": "stream",
     "text": [
      "INFO:tensorflow:Assets written to: C:/Users/logik/Desktop/rlsepsis234-master - full/gym_sepsis/env/model\\sepsis_states.model\\assets\n"
     ]
    },
    {
     "name": "stderr",
     "output_type": "stream",
     "text": [
      "INFO:tensorflow:Assets written to: C:/Users/logik/Desktop/rlsepsis234-master - full/gym_sepsis/env/model\\sepsis_states.model\\assets\n"
     ]
    },
    {
     "name": "stdout",
     "output_type": "stream",
     "text": [
      "1505/1505 [==============================] - 172s 114ms/step - loss: 0.0627 - val_loss: 0.0630\n",
      "Epoch 3/10\n",
      "1504/1505 [============================>.] - ETA: 0s - loss: 0.0618\n",
      "Epoch 3: val_loss improved from 0.06295 to 0.06226, saving model to C:/Users/logik/Desktop/rlsepsis234-master - full/gym_sepsis/env/model\\sepsis_states.model\n"
     ]
    },
    {
     "name": "stderr",
     "output_type": "stream",
     "text": [
      "WARNING:absl:Found untraced functions such as gru_cell_2_layer_call_fn, gru_cell_2_layer_call_and_return_conditional_losses while saving (showing 2 of 2). These functions will not be directly callable after loading.\n"
     ]
    },
    {
     "name": "stdout",
     "output_type": "stream",
     "text": [
      "INFO:tensorflow:Assets written to: C:/Users/logik/Desktop/rlsepsis234-master - full/gym_sepsis/env/model\\sepsis_states.model\\assets\n"
     ]
    },
    {
     "name": "stderr",
     "output_type": "stream",
     "text": [
      "INFO:tensorflow:Assets written to: C:/Users/logik/Desktop/rlsepsis234-master - full/gym_sepsis/env/model\\sepsis_states.model\\assets\n"
     ]
    },
    {
     "name": "stdout",
     "output_type": "stream",
     "text": [
      "1505/1505 [==============================] - 170s 113ms/step - loss: 0.0618 - val_loss: 0.0623\n",
      "Epoch 4/10\n",
      "1504/1505 [============================>.] - ETA: 0s - loss: 0.0613\n",
      "Epoch 4: val_loss improved from 0.06226 to 0.06197, saving model to C:/Users/logik/Desktop/rlsepsis234-master - full/gym_sepsis/env/model\\sepsis_states.model\n"
     ]
    },
    {
     "name": "stderr",
     "output_type": "stream",
     "text": [
      "WARNING:absl:Found untraced functions such as gru_cell_2_layer_call_fn, gru_cell_2_layer_call_and_return_conditional_losses while saving (showing 2 of 2). These functions will not be directly callable after loading.\n"
     ]
    },
    {
     "name": "stdout",
     "output_type": "stream",
     "text": [
      "INFO:tensorflow:Assets written to: C:/Users/logik/Desktop/rlsepsis234-master - full/gym_sepsis/env/model\\sepsis_states.model\\assets\n"
     ]
    },
    {
     "name": "stderr",
     "output_type": "stream",
     "text": [
      "INFO:tensorflow:Assets written to: C:/Users/logik/Desktop/rlsepsis234-master - full/gym_sepsis/env/model\\sepsis_states.model\\assets\n"
     ]
    },
    {
     "name": "stdout",
     "output_type": "stream",
     "text": [
      "1505/1505 [==============================] - 171s 114ms/step - loss: 0.0613 - val_loss: 0.0620\n",
      "Epoch 5/10\n",
      "1504/1505 [============================>.] - ETA: 0s - loss: 0.0610\n",
      "Epoch 5: val_loss improved from 0.06197 to 0.06153, saving model to C:/Users/logik/Desktop/rlsepsis234-master - full/gym_sepsis/env/model\\sepsis_states.model\n"
     ]
    },
    {
     "name": "stderr",
     "output_type": "stream",
     "text": [
      "WARNING:absl:Found untraced functions such as gru_cell_2_layer_call_fn, gru_cell_2_layer_call_and_return_conditional_losses while saving (showing 2 of 2). These functions will not be directly callable after loading.\n"
     ]
    },
    {
     "name": "stdout",
     "output_type": "stream",
     "text": [
      "INFO:tensorflow:Assets written to: C:/Users/logik/Desktop/rlsepsis234-master - full/gym_sepsis/env/model\\sepsis_states.model\\assets\n"
     ]
    },
    {
     "name": "stderr",
     "output_type": "stream",
     "text": [
      "INFO:tensorflow:Assets written to: C:/Users/logik/Desktop/rlsepsis234-master - full/gym_sepsis/env/model\\sepsis_states.model\\assets\n"
     ]
    },
    {
     "name": "stdout",
     "output_type": "stream",
     "text": [
      "1505/1505 [==============================] - 177s 118ms/step - loss: 0.0610 - val_loss: 0.0615\n",
      "Epoch 6/10\n",
      "1504/1505 [============================>.] - ETA: 0s - loss: 0.0607\n",
      "Epoch 6: val_loss improved from 0.06153 to 0.06121, saving model to C:/Users/logik/Desktop/rlsepsis234-master - full/gym_sepsis/env/model\\sepsis_states.model\n"
     ]
    },
    {
     "name": "stderr",
     "output_type": "stream",
     "text": [
      "WARNING:absl:Found untraced functions such as gru_cell_2_layer_call_fn, gru_cell_2_layer_call_and_return_conditional_losses while saving (showing 2 of 2). These functions will not be directly callable after loading.\n"
     ]
    },
    {
     "name": "stdout",
     "output_type": "stream",
     "text": [
      "INFO:tensorflow:Assets written to: C:/Users/logik/Desktop/rlsepsis234-master - full/gym_sepsis/env/model\\sepsis_states.model\\assets\n"
     ]
    },
    {
     "name": "stderr",
     "output_type": "stream",
     "text": [
      "INFO:tensorflow:Assets written to: C:/Users/logik/Desktop/rlsepsis234-master - full/gym_sepsis/env/model\\sepsis_states.model\\assets\n"
     ]
    },
    {
     "name": "stdout",
     "output_type": "stream",
     "text": [
      "1505/1505 [==============================] - 180s 119ms/step - loss: 0.0607 - val_loss: 0.0612\n",
      "Epoch 7/10\n",
      "1504/1505 [============================>.] - ETA: 0s - loss: 0.0604\n",
      "Epoch 7: val_loss did not improve from 0.06121\n",
      "1505/1505 [==============================] - 186s 123ms/step - loss: 0.0604 - val_loss: 0.0613\n",
      "Epoch 8/10\n",
      "1504/1505 [============================>.] - ETA: 0s - loss: 0.0602\n",
      "Epoch 8: val_loss improved from 0.06121 to 0.06106, saving model to C:/Users/logik/Desktop/rlsepsis234-master - full/gym_sepsis/env/model\\sepsis_states.model\n"
     ]
    },
    {
     "name": "stderr",
     "output_type": "stream",
     "text": [
      "WARNING:absl:Found untraced functions such as gru_cell_2_layer_call_fn, gru_cell_2_layer_call_and_return_conditional_losses while saving (showing 2 of 2). These functions will not be directly callable after loading.\n"
     ]
    },
    {
     "name": "stdout",
     "output_type": "stream",
     "text": [
      "INFO:tensorflow:Assets written to: C:/Users/logik/Desktop/rlsepsis234-master - full/gym_sepsis/env/model\\sepsis_states.model\\assets\n"
     ]
    },
    {
     "name": "stderr",
     "output_type": "stream",
     "text": [
      "INFO:tensorflow:Assets written to: C:/Users/logik/Desktop/rlsepsis234-master - full/gym_sepsis/env/model\\sepsis_states.model\\assets\n"
     ]
    },
    {
     "name": "stdout",
     "output_type": "stream",
     "text": [
      "1505/1505 [==============================] - 188s 125ms/step - loss: 0.0602 - val_loss: 0.0611\n",
      "Epoch 9/10\n",
      "1505/1505 [==============================] - ETA: 0s - loss: 0.0600\n",
      "Epoch 9: val_loss did not improve from 0.06106\n",
      "1505/1505 [==============================] - 175s 117ms/step - loss: 0.0600 - val_loss: 0.0612\n",
      "Epoch 10/10\n",
      "1504/1505 [============================>.] - ETA: 0s - loss: 0.0598\n",
      "Epoch 10: val_loss improved from 0.06106 to 0.06084, saving model to C:/Users/logik/Desktop/rlsepsis234-master - full/gym_sepsis/env/model\\sepsis_states.model\n"
     ]
    },
    {
     "name": "stderr",
     "output_type": "stream",
     "text": [
      "WARNING:absl:Found untraced functions such as gru_cell_2_layer_call_fn, gru_cell_2_layer_call_and_return_conditional_losses while saving (showing 2 of 2). These functions will not be directly callable after loading.\n"
     ]
    },
    {
     "name": "stdout",
     "output_type": "stream",
     "text": [
      "INFO:tensorflow:Assets written to: C:/Users/logik/Desktop/rlsepsis234-master - full/gym_sepsis/env/model\\sepsis_states.model\\assets\n"
     ]
    },
    {
     "name": "stderr",
     "output_type": "stream",
     "text": [
      "INFO:tensorflow:Assets written to: C:/Users/logik/Desktop/rlsepsis234-master - full/gym_sepsis/env/model\\sepsis_states.model\\assets\n"
     ]
    },
    {
     "name": "stdout",
     "output_type": "stream",
     "text": [
      "1505/1505 [==============================] - 183s 122ms/step - loss: 0.0598 - val_loss: 0.0608\n"
     ]
    }
   ],
   "source": [
    "tensorboard = keras.callbacks.TensorBoard(log_dir=\"logs/lstm_no_embed{}\".format(time()))\n",
    "cp_callback = tf.keras.callbacks.ModelCheckpoint(\"C:/Users/logik/Desktop/rlsepsis234-master - full/gym_sepsis/env/model/sepsis_states.model\",\n",
    "                                                 verbose=1, monitor='val_loss', save_best_only=True)\n",
    "\n",
    "early_stop =tf.keras.callbacks.EarlyStopping(monitor='val_loss', patience=3)\n",
    "\n",
    "history = model.fit(train_matrix, data['y_train'], validation_data=(test_matrix, data['y_test']), epochs=10, callbacks=[tensorboard, cp_callback, early_stop], batch_size=512)"
   ]
  },
  {
   "cell_type": "code",
   "execution_count": 47,
   "outputs": [
    {
     "data": {
      "text/plain": "<Figure size 1000x600 with 1 Axes>",
      "image/png": "[encoded data removed]"
     },
     "metadata": {},
     "output_type": "display_data"
    }
   ],
   "source": [
    "plt.figure(figsize=(10,6))\n",
    "plt.plot(history.history['loss'])\n",
    "plt.plot(history.history['val_loss'])\n",
    "plt.title('Model loss')\n",
    "plt.ylabel('Loss')\n",
    "plt.xlabel('Epoch')\n",
    "plt.legend(['Train', 'Test'], loc='upper left')\n",
    "plt.show()\n",
    "# 使用test_predicted 10次"
   ],
   "metadata": {
    "collapsed": false,
    "ExecuteTime": {
     "end_time": "2023-08-04T02:11:29.512764800Z",
     "start_time": "2023-08-04T02:11:29.121700300Z"
    }
   }
  },
  {
   "cell_type": "code",
   "execution_count": 48,
   "metadata": {
    "ExecuteTime": {
     "end_time": "2023-08-04T02:11:32.822885Z",
     "start_time": "2023-08-04T02:11:29.513765600Z"
    }
   },
   "outputs": [],
   "source": [
    "model = tf.keras.models.load_model(\"C:/Users/logik/Desktop/rlsepsis234-master - full/gym_sepsis/env/model/sepsis_states.model\")     # 对齐上面目录"
   ]
  },
  {
   "cell_type": "code",
   "execution_count": 49,
   "outputs": [
    {
     "data": {
      "text/plain": "(193284, 10, 49)"
     },
     "execution_count": 49,
     "metadata": {},
     "output_type": "execute_result"
    }
   ],
   "source": [
    "test_matrix.shape"
   ],
   "metadata": {
    "collapsed": false,
    "ExecuteTime": {
     "end_time": "2023-08-04T02:11:32.840067500Z",
     "start_time": "2023-08-04T02:11:32.824886200Z"
    }
   }
  },
  {
   "cell_type": "code",
   "execution_count": 50,
   "outputs": [
    {
     "data": {
      "text/plain": "array([0.21592443, 0.21659919, 0.23684211, 0.25506073, 0.23481781,\n       0.22267206, 0.21052632, 0.21052632, 0.22267206, 0.22672065])"
     },
     "execution_count": 50,
     "metadata": {},
     "output_type": "execute_result"
    }
   ],
   "source": [
    "test_matrix[10,:,10]        #"
   ],
   "metadata": {
    "collapsed": false,
    "ExecuteTime": {
     "end_time": "2023-08-04T02:11:32.870463300Z",
     "start_time": "2023-08-04T02:11:32.839066500Z"
    }
   }
  },
  {
   "cell_type": "code",
   "execution_count": 51,
   "metadata": {
    "ExecuteTime": {
     "end_time": "2023-08-04T02:12:27.970881600Z",
     "start_time": "2023-08-04T02:11:32.854274900Z"
    }
   },
   "outputs": [
    {
     "name": "stdout",
     "output_type": "stream",
     "text": [
      "6041/6041 [==============================] - 51s 8ms/step\n"
     ]
    }
   ],
   "source": [
    "test_predicted = model.predict(test_matrix)"
   ]
  },
  {
   "cell_type": "code",
   "execution_count": 52,
   "metadata": {
    "ExecuteTime": {
     "end_time": "2023-08-04T02:15:52.671541Z",
     "start_time": "2023-08-04T02:12:27.972930Z"
    }
   },
   "outputs": [
    {
     "name": "stdout",
     "output_type": "stream",
     "text": [
      "24067/24067 [==============================] - 191s 8ms/step\n"
     ]
    }
   ],
   "source": [
    "train_predicted = model.predict(train_matrix)"
   ]
  },
  {
   "cell_type": "code",
   "execution_count": 53,
   "metadata": {
    "ExecuteTime": {
     "end_time": "2023-08-04T02:15:52.686645Z",
     "start_time": "2023-08-04T02:15:52.681603900Z"
    }
   },
   "outputs": [],
   "source": [
    "# columns = ['ALBUMIN', 'ANION GAP', 'BANDS', 'BICARBONATE',\n",
    "#        'BILIRUBIN', 'BUN', 'CHLORIDE', 'CREATININE', 'DiasBP', 'Glucose',\n",
    "#        'GLUCOSE', 'HeartRate', 'HEMATOCRIT', 'HEMOGLOBIN', 'INR', 'LACTATE',\n",
    "#        'MeanBP', 'PaCO2', 'PLATELET', 'POTASSIUM', 'PT', 'PTT', 'RespRate',\n",
    "#        'SODIUM', 'SpO2', 'SysBP', 'TempC', 'WBC', 'age', 'is_male',\n",
    "#        'race_white', 'race_black', 'race_hispanic', 'race_other', 'height',\n",
    "#        'weight', 'vent', 'sofa', 'lods', 'sirs', 'qsofa', 'qsofa_sysbp_score',\n",
    "#        'qsofa_gcs_score', 'qsofa_resprate_score', 'elixhauser_hospital',\n",
    "#        'blood_culture_positive']\n",
    "columns = ['Unnamed: 0', 'Admn001_ID', 'bloc', 'Demo002_Age',\n",
    "       'Demo004_Elixhauser score', 'Demo005_Weight_kg', 'Vitl002_HR',\n",
    "       'Vitl009_SOFA', 'Vitl003_SysBP', 'Vitl004_MeanBP', 'Vitl005_DiaBP',\n",
    "       'Vitl006_RR', 'Labs001_Potassium', 'Labs002_sodium', 'Labs008_Ca',\n",
    "       'Labs014_Albumin', 'Labs015_Hb', 'Labs021_pH', 'Labs024_BE',\n",
    "       'Labs025_HCO3', 'Vitl011_Shock_Index',\n",
    "       'Flud006_Cumulated fluid balance', 'Labs005_BUN', 'Labs006_Creatinine',\n",
    "       'Labs013_TotalBili', 'Labs016_WbcCount', 'Labs017_PlateletsCount',\n",
    "       'Labs027_PaO2_FiO2 ratio', 'Labs023_PaCO2', 'Labs026_Lactate',\n",
    "       'Flud001_InputTotal', 'Flud004_OutputTotal', 'Flud005_Output4H',\n",
    "       'Demo001_Gender_0', 'Demo001_Gender_1', 'Vent003_sedation_0',\n",
    "       'Vent003_sedation_1', 'Flud007_rrt_0', 'Flud007_rrt_1',\n",
    "       'Vent001_Mech_0', 'Vent001_Mech_1', 'Vitl010_SIRS_1', 'Vitl010_SIRS_2',\n",
    "       'Vitl010_SIRS_3', 'Vitl010_SIRS_4', 'Vitl010_SIRS_5', 'Vitl001_GCS_3',\n",
    "       'Vitl001_GCS_4', 'Vitl001_GCS_5', 'Vitl001_GCS_6', 'Vitl001_GCS_7',\n",
    "       'Vitl001_GCS_8', 'Vitl001_GCS_9', 'Vitl001_GCS_10', 'Vitl001_GCS_11',\n",
    "       'Vitl001_GCS_12', 'Vitl001_GCS_13', 'Vitl001_GCS_14', 'Vitl001_GCS_15',\n",
    "       'Vitl007_SpO2_C0', 'Vitl007_SpO2_C1', 'Vitl007_SpO2_C2',\n",
    "       'Vitl007_SpO2_C3', 'Vitl007_SpO2_C4', 'Vitl007_SpO2_C5',\n",
    "       'Vitl007_SpO2_C6', 'Vitl007_SpO2_C7', 'Vitl007_SpO2_C8',\n",
    "       'Vitl007_SpO2_C9', 'Vitl008_Temp_C0', 'Vitl008_Temp_C1',\n",
    "       'Vitl008_Temp_C2', 'Vitl008_Temp_C3', 'Vitl008_Temp_C4',\n",
    "       'Vitl008_Temp_C5', 'Vitl008_Temp_C6', 'Vitl008_Temp_C7',\n",
    "       'Vitl008_Temp_C8', 'Vitl008_Temp_C9', 'vaso_input', 'iv_input',\n",
    "       'discrete_action', 'reward', 'row_id', 'row_id_next',\n",
    "       'OutC002_90d mortality', 'timeday']"
   ]
  },
  {
   "cell_type": "code",
   "execution_count": 54,
   "metadata": {
    "ExecuteTime": {
     "end_time": "2023-08-04T02:15:52.739188400Z",
     "start_time": "2023-08-04T02:15:52.689720900Z"
    }
   },
   "outputs": [
    {
     "data": {
      "text/plain": "array([0.19751795, 0.23220967, 0.27142334, 0.29266757, 0.31831616,\n       0.332766  , 0.33626837, 0.34341365, 0.3446787 , 0.36118746,\n       0.35715306], dtype=float32)"
     },
     "execution_count": 54,
     "metadata": {},
     "output_type": "execute_result"
    }
   ],
   "source": [
    "test_predicted[0:11,columns.index('Vitl002_HR')]     # 11 used to be heart rate"
   ]
  },
  {
   "cell_type": "code",
   "execution_count": 55,
   "outputs": [
    {
     "data": {
      "text/plain": "array([0.23538353, 0.27002406, 0.30154252, 0.33727336, 0.36309752,\n       0.3582098 , 0.34978262, 0.34211105, 0.34177282, 0.35598236,\n       0.36913335], dtype=float32)"
     },
     "execution_count": 55,
     "metadata": {},
     "output_type": "execute_result"
    }
   ],
   "source": [
    "test_predicted[0:11,columns.index('Vitl003_SysBP')]"
   ],
   "metadata": {
    "collapsed": false,
    "ExecuteTime": {
     "end_time": "2023-08-04T02:15:52.739188400Z",
     "start_time": "2023-08-04T02:15:52.703874400Z"
    }
   }
  },
  {
   "cell_type": "code",
   "execution_count": 56,
   "metadata": {
    "ExecuteTime": {
     "end_time": "2023-08-04T02:15:52.740235500Z",
     "start_time": "2023-08-04T02:15:52.717982400Z"
    }
   },
   "outputs": [],
   "source": [
    "# sns.set(style=\"white\")\n",
    "#\n",
    "# def plot(column, mode=\"test\", prediction=test_predicted):\n",
    "#     from matplotlib.pyplot import figure\n",
    "#     figure(num=None, figsize=(10, 6), dpi=80, facecolor='w', edgecolor='k')\n",
    "#     plt.plot(data['y_'+mode][6:24,columns.index(column)].reshape(-1,2), label=\"truth\", scaley=False)  # 不是之前的5：26\n",
    "#     plt.plot(prediction[6:24,columns.index(column)].reshape(2,-1), label=\"predicted\", scaley=False)\n",
    "#     plt.ylim(-2, 2)\n",
    "#     plt.legend([\"Real Value\", \"Predicted (No VAE)\"])\n",
    "#     plt.title(column + \" \" + mode)\n",
    "#     plt.show()"
   ]
  },
  {
   "cell_type": "code",
   "execution_count": 57,
   "outputs": [],
   "source": [
    "sns.set(style=\"white\")\n",
    "\n",
    "# def plot(column, mode=\"test\", prediction=test_predicted):\n",
    "#     from matplotlib.pyplot import figure\n",
    "#     figure(num=None, figsize=(10, 6), dpi=80, facecolor='w', edgecolor='k')\n",
    "#     plt.plot(data['x_'+mode][6:80,columns.index(column)], label=\"truth\", scaley=False)          #　要求的数据是有两个索引，但是这些数据是一维的\n",
    "#     plt.plot(prediction[6:80,columns.index(column)], label=\"predicted\", scaley=False)\n",
    "#     plt.ylim(-200, 200)\n",
    "#     plt.legend([\"Real Value\", \"Predicted (No VAE)\"])\n",
    "#     plt.title(column + \" \")\n",
    "#     plt.show()\n",
    "\n",
    "def plot_and_validate(data_array, prediction_array, start, end, column):\n",
    "    # Check if 'Demo002_Age' values are the same in the range\n",
    "    age_col_index = columns.index(\"Demo002_Age\")\n",
    "    if np.unique(data_array[start:end, age_col_index]).size != 1:\n",
    "        raise ValueError('you selected records from different patients')\n",
    "\n",
    "    plt.plot(data_array[start:end, columns.index(column)], label=\"truth\")\n",
    "    plt.plot(prediction_array[start:end,columns.index(column)], label=\"predicted\")\n",
    "    plt.title(column)\n",
    "    plt.legend([\"Real Value\", \"Predicted Value\"])\n",
    "    plt.show()\n"
   ],
   "metadata": {
    "collapsed": false,
    "ExecuteTime": {
     "end_time": "2023-08-04T02:15:52.754429600Z",
     "start_time": "2023-08-04T02:15:52.738188500Z"
    }
   }
  },
  {
   "cell_type": "code",
   "execution_count": 58,
   "outputs": [
    {
     "name": "stdout",
     "output_type": "stream",
     "text": [
      "(193284, 49)\n"
     ]
    }
   ],
   "source": [
    "print(test_predicted.shape)\n",
    "test_predicted = pd.DataFrame(test_predicted)"
   ],
   "metadata": {
    "collapsed": false,
    "ExecuteTime": {
     "end_time": "2023-08-04T02:15:52.778688100Z",
     "start_time": "2023-08-04T02:15:52.753429800Z"
    }
   }
  },
  {
   "cell_type": "code",
   "execution_count": 59,
   "outputs": [
    {
     "ename": "ValueError",
     "evalue": "you selected records from different patients",
     "output_type": "error",
     "traceback": [
      "\u001B[1;31m---------------------------------------------------------------------------\u001B[0m",
      "\u001B[1;31mValueError\u001B[0m                                Traceback (most recent call last)",
      "Cell \u001B[1;32mIn[59], line 4\u001B[0m\n\u001B[0;32m      1\u001B[0m data_array \u001B[38;5;241m=\u001B[39m np\u001B[38;5;241m.\u001B[39marray(data[\u001B[38;5;124m'\u001B[39m\u001B[38;5;124mx_\u001B[39m\u001B[38;5;124m'\u001B[39m\u001B[38;5;241m+\u001B[39m\u001B[38;5;124m\"\u001B[39m\u001B[38;5;124mtest\u001B[39m\u001B[38;5;124m\"\u001B[39m])\n\u001B[0;32m      2\u001B[0m prediction_array \u001B[38;5;241m=\u001B[39m np\u001B[38;5;241m.\u001B[39marray(test_predicted)\n\u001B[1;32m----> 4\u001B[0m \u001B[43mplot_and_validate\u001B[49m\u001B[43m(\u001B[49m\u001B[43mdata_array\u001B[49m\u001B[43m,\u001B[49m\u001B[43m \u001B[49m\u001B[43mprediction_array\u001B[49m\u001B[43m,\u001B[49m\u001B[43m \u001B[49m\u001B[38;5;241;43m740\u001B[39;49m\u001B[43m,\u001B[49m\u001B[43m \u001B[49m\u001B[38;5;241;43m760\u001B[39;49m\u001B[43m,\u001B[49m\u001B[43m \u001B[49m\u001B[38;5;124;43m'\u001B[39;49m\u001B[38;5;124;43mDemo002_Age\u001B[39;49m\u001B[38;5;124;43m'\u001B[39;49m\u001B[43m)\u001B[49m\n",
      "Cell \u001B[1;32mIn[57], line 17\u001B[0m, in \u001B[0;36mplot_and_validate\u001B[1;34m(data_array, prediction_array, start, end, column)\u001B[0m\n\u001B[0;32m     15\u001B[0m age_col_index \u001B[38;5;241m=\u001B[39m columns\u001B[38;5;241m.\u001B[39mindex(\u001B[38;5;124m\"\u001B[39m\u001B[38;5;124mDemo002_Age\u001B[39m\u001B[38;5;124m\"\u001B[39m)\n\u001B[0;32m     16\u001B[0m \u001B[38;5;28;01mif\u001B[39;00m np\u001B[38;5;241m.\u001B[39munique(data_array[start:end, age_col_index])\u001B[38;5;241m.\u001B[39msize \u001B[38;5;241m!=\u001B[39m \u001B[38;5;241m1\u001B[39m:\n\u001B[1;32m---> 17\u001B[0m     \u001B[38;5;28;01mraise\u001B[39;00m \u001B[38;5;167;01mValueError\u001B[39;00m(\u001B[38;5;124m'\u001B[39m\u001B[38;5;124myou selected records from different patients\u001B[39m\u001B[38;5;124m'\u001B[39m)\n\u001B[0;32m     19\u001B[0m plt\u001B[38;5;241m.\u001B[39mplot(data_array[start:end, columns\u001B[38;5;241m.\u001B[39mindex(column)], label\u001B[38;5;241m=\u001B[39m\u001B[38;5;124m\"\u001B[39m\u001B[38;5;124mtruth\u001B[39m\u001B[38;5;124m\"\u001B[39m)\n\u001B[0;32m     20\u001B[0m plt\u001B[38;5;241m.\u001B[39mplot(prediction_array[start:end,columns\u001B[38;5;241m.\u001B[39mindex(column)], label\u001B[38;5;241m=\u001B[39m\u001B[38;5;124m\"\u001B[39m\u001B[38;5;124mpredicted\u001B[39m\u001B[38;5;124m\"\u001B[39m)\n",
      "\u001B[1;31mValueError\u001B[0m: you selected records from different patients"
     ]
    }
   ],
   "source": [
    "data_array = np.array(data['x_'+\"test\"])\n",
    "prediction_array = np.array(test_predicted)\n",
    "\n",
    "plot_and_validate(data_array, prediction_array, 740, 760, 'Demo002_Age')"
   ],
   "metadata": {
    "collapsed": false,
    "ExecuteTime": {
     "end_time": "2023-08-04T02:15:52.933364200Z",
     "start_time": "2023-08-04T02:15:52.767540900Z"
    }
   }
  },
  {
   "cell_type": "code",
   "execution_count": null,
   "metadata": {
    "ExecuteTime": {
     "start_time": "2023-08-04T02:15:52.932364100Z"
    }
   },
   "outputs": [],
   "source": [
    "import math\n",
    "prediction_array[columns.index(\"Labs004_Glucose\")] = math.e ** (prediction_array[columns.index(\"Labs004_Glucose\")] * (6.90173720665657 - 0.693147180559945) + 0.693147180559945 ) -1\n",
    "data_array[:,columns.index('Labs004_Glucose')] = math.e ** (data_array[:,columns.index('Labs004_Glucose')]* (6.90173720665657 - 0.693147180559945) + 0.693147180559945 )-1\n",
    "plot_and_validate(data_array, prediction_array, 560, 565, 'Labs004_Glucose')"
   ]
  },
  {
   "cell_type": "code",
   "execution_count": null,
   "metadata": {},
   "outputs": [],
   "source": [
    "# you need to descale manually tho\n",
    "prediction_array[columns.index(\"Vitl004_MeanBP\")] = prediction_array[columns.index(\"Vitl004_MeanBP\")] * (200 - 0) + 0\n",
    "data_array[:,columns.index('Vitl004_MeanBP')] = data_array[:,columns.index('Vitl004_MeanBP')] * (200 - 0) + 0\n",
    "\n",
    "# Use the new plot function\n",
    "plot_and_validate(data_array, prediction_array, 740, 760, 'Vitl004_MeanBP')"
   ]
  },
  {
   "cell_type": "code",
   "execution_count": null,
   "metadata": {},
   "outputs": [],
   "source": [
    "# plot(\"Labs014_Albumin\")\n",
    "prediction_array[columns.index(\"Labs014_Albumin\")] = prediction_array[columns.index(\"Labs014_Albumin\")] * (5.9 - 1) + 1\n",
    "data_array[:,columns.index('Labs014_Albumin')] = data_array[:,columns.index('Labs014_Albumin')] * (5.9 - 1) + 1\n",
    "if np.unique(data_array[740:760, columns.index(\"Demo002_Age\")]).size != 1:\n",
    "    raise ValueError('you selected records from different patients')\n",
    "\n",
    "plt.plot(data_array[740:760,columns.index(\"Labs014_Albumin\")], label=\"truth\")\n",
    "plt.plot(prediction_array[740:760,columns.index(\"Labs014_Albumin\")], label=\"predicted\")\n",
    "plt.legend([\"Real Value\", \"Predicted (No VAE)\"])"
   ]
  },
  {
   "cell_type": "code",
   "execution_count": null,
   "metadata": {},
   "outputs": [],
   "source": [
    "plot(\"Labs016_WbcCount\")"
   ]
  },
  {
   "cell_type": "code",
   "execution_count": null,
   "metadata": {},
   "outputs": [],
   "source": [
    "plot(\"Labs002_sodium\")"
   ]
  },
  {
   "cell_type": "code",
   "execution_count": null,
   "metadata": {},
   "outputs": [],
   "source": [
    "plot(\"Labs001_Potassium\")"
   ]
  },
  {
   "cell_type": "code",
   "execution_count": null,
   "metadata": {},
   "outputs": [],
   "source": [
    "plot(\"Labs003_chloride\")"
   ]
  },
  {
   "cell_type": "code",
   "execution_count": null,
   "metadata": {},
   "outputs": [],
   "source": [
    "plot(\"Vitl002_HR\")"
   ]
  },
  {
   "cell_type": "code",
   "execution_count": null,
   "metadata": {},
   "outputs": [],
   "source": []
  },
  {
   "cell_type": "code",
   "execution_count": null,
   "outputs": [],
   "source": [],
   "metadata": {
    "collapsed": false
   }
  }
 ],
 "metadata": {
  "kernelspec": {
   "name": "python3",
   "language": "python",
   "display_name": "Python 3 (ipykernel)"
  },
  "language_info": {
   "codemirror_mode": {
    "name": "ipython",
    "version": 3
   },
   "file_extension": ".py",
   "mimetype": "text/x-python",
   "name": "python",
   "nbconvert_exporter": "python",
   "pygments_lexer": "ipython3",
   "version": "3.6.5"
  }
 },
 "nbformat": 4,
 "nbformat_minor": 2
}
